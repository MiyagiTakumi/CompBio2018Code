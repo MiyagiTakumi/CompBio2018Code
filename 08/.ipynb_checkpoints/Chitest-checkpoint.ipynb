{
 "cells": [
  {
   "cell_type": "code",
   "execution_count": 3,
   "metadata": {
    "scrolled": true
   },
   "outputs": [],
   "source": [
    "import numpy as np\n",
    "\n",
    "Siro = (13,2,3,3,0,15,2)\n",
    "Noa = (1,0,0,5,29,0,2)\n",
    "Hime = (0,2,17,21,0,0,1)\n",
    "Kitsune = (0,1,7,24,0,0,3)\n",
    "\n",
    "array =(Siro, Noa, Hime, Kitsune)\n",
    "SUM = (sum(Siro), sum(Noa), sum(Hime), Sum(Kitsune))\n",
    "\n",
    "def Chitest(i, j):\n",
    "    mean = [0]*len(array[i])\n",
    "    \n",
    "    for c1 in range(len(array[i])):\n",
    "        mean[c1] =(array[i][c]+array[j][c])/(SUM[i]+SUM[j])\n",
    "        \n",
    "        for c2 in range(len(array[i]))\n",
    "            RetVal += (mean) \n",
    "        return \n",
    "    \n"
   ]
  },
  {
   "cell_type": "code",
   "execution_count": 4,
   "metadata": {},
   "outputs": [],
   "source": [
    "P = np.zeros_like((4,4))\n",
    "\n",
    "for i in range(4):\n",
    "    for j in range(i,4):\n",
    "        Chitest(i,j)"
   ]
  },
  {
   "cell_type": "code",
   "execution_count": null,
   "metadata": {},
   "outputs": [],
   "source": []
  }
 ],
 "metadata": {
  "kernelspec": {
   "display_name": "Python 3",
   "language": "python",
   "name": "python3"
  },
  "language_info": {
   "codemirror_mode": {
    "name": "ipython",
    "version": 3
   },
   "file_extension": ".py",
   "mimetype": "text/x-python",
   "name": "python",
   "nbconvert_exporter": "python",
   "pygments_lexer": "ipython3",
   "version": "3.6.5"
  }
 },
 "nbformat": 4,
 "nbformat_minor": 2
}
