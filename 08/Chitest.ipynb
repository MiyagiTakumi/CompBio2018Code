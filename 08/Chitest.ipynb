{
 "cells": [
  {
   "cell_type": "code",
   "execution_count": 1,
   "metadata": {},
   "outputs": [
    {
     "name": "stdout",
     "output_type": "stream",
     "text": [
      "昆虫相0と昆虫相1の検定\n",
      "P =106.98491228070174\n",
      "昆虫相0と昆虫相2の検定\n",
      "P =116.06265267599376\n",
      "昆虫相0と昆虫相3の検定\n",
      "P =93.76425138187936\n",
      "昆虫相1と昆虫相2の検定\n",
      "P =118.44005544005543\n",
      "昆虫相1と昆虫相3の検定\n",
      "P =90.74138966552759\n",
      "昆虫相2と昆虫相3の検定\n",
      "P =9.272314933675656\n"
     ]
    }
   ],
   "source": [
    "import numpy as np\n",
    "\n",
    "Siro = (13,2,3,3,0,15,2)\n",
    "Noa = (1,0,0,5,29,0,2)\n",
    "Hime = (0,2,17,21,0,0,1)\n",
    "Kitsune = (0,1,7,24,0,0,3)\n",
    "\n",
    "array =(Siro, Noa, Hime, Kitsune)\n",
    "SUM = (sum(Siro), sum(Noa), sum(Hime), sum(Kitsune))\n",
    "\n",
    "def Chitest(i, j):\n",
    "    meanProb = [0]*len(array[i])\n",
    "    RetVal = 0\n",
    "    \n",
    "    for c1 in range(len(array[i])):\n",
    "        meanProb[c1] =(array[i][c1]+array[j][c1])/(SUM[i]+SUM[j])\n",
    "        \n",
    "        for c2 in range(len(array[i])):\n",
    "            if meanProb[c2] != 0:\n",
    "                RetVal += ((SUM[i]*meanProb[c2]-array[i][c2])**2)/(SUM[i]*meanProb[c2])\n",
    "    \n",
    "    return RetVal\n",
    "    \n",
    "\n",
    "P = np.zeros((4,4))\n",
    "\n",
    "for i in range(4):\n",
    "    for j in range(i+1,4):\n",
    "        print(\"昆虫相\"+str(i)+\"と昆虫相\"+str(j)+\"の検定\")\n",
    "        print(\"P =\"+str(Chitest(i,j)))"
   ]
  },
  {
   "cell_type": "code",
   "execution_count": null,
   "metadata": {},
   "outputs": [],
   "source": []
  }
 ],
 "metadata": {
  "kernelspec": {
   "display_name": "Python 3",
   "language": "python",
   "name": "python3"
  },
  "language_info": {
   "codemirror_mode": {
    "name": "ipython",
    "version": 3
   },
   "file_extension": ".py",
   "mimetype": "text/x-python",
   "name": "python",
   "nbconvert_exporter": "python",
   "pygments_lexer": "ipython3",
   "version": "3.6.5"
  }
 },
 "nbformat": 4,
 "nbformat_minor": 2
}
