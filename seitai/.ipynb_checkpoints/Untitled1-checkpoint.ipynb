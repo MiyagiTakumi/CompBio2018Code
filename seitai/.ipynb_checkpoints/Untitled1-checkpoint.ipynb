{
 "cells": [
  {
   "cell_type": "code",
   "execution_count": 1,
   "metadata": {},
   "outputs": [],
   "source": [
    "import datetime\n",
    "\n",
    "sec= [21,\n",
    " 33,\n",
    " 37,\n",
    " 72,\n",
    " 100,\n",
    " 108,\n",
    " 114,\n",
    " 120,\n",
    " 137,\n",
    " 143,\n",
    " 277,\n",
    " 284,\n",
    " 296,\n",
    " 302,\n",
    " 358,\n",
    " 389,\n",
    " 407,\n",
    " 482,\n",
    " 500,\n",
    " 511,\n",
    " 547,\n",
    " 576,\n",
    " 707,\n",
    " 718,\n",
    " 724,\n",
    " 755,\n",
    " 766,\n",
    " 770,\n",
    " 779,\n",
    " 815,\n",
    " 826,\n",
    " 852,\n",
    " 931,\n",
    " 947,\n",
    " 1009,\n",
    " 1067,\n",
    " 1089,\n",
    " 1109,\n",
    " 1116,\n",
    " 1126,\n",
    " 1148,\n",
    " 1194,\n",
    " 1230,\n",
    " 1233,\n",
    " 1315,\n",
    " 1368,\n",
    " 1547,\n",
    " 1550,\n",
    " 1573,\n",
    " 1598,\n",
    " 1607,\n",
    " 1622,\n",
    " 1769,\n",
    " 1823,\n",
    " 1835,\n",
    " 1853,\n",
    " 1872,\n",
    " 1880,\n",
    " 1988,\n",
    " 2106,\n",
    " 2137,\n",
    " 2407]"
   ]
  },
  {
   "cell_type": "code",
   "execution_count": 2,
   "metadata": {},
   "outputs": [],
   "source": [
    "ch = ['L',\n",
    " '0',\n",
    " '0',\n",
    " '0',\n",
    " 'L',\n",
    " 'L',\n",
    " 'L',\n",
    " 'L',\n",
    " 'L',\n",
    " '0',\n",
    " 'L',\n",
    " '0',\n",
    " 'L',\n",
    " '0',\n",
    " 'L',\n",
    " '0',\n",
    " '0',\n",
    " 'L',\n",
    " 'l',\n",
    " 'L',\n",
    " 'L',\n",
    " 'E',\n",
    " 'E',\n",
    " 'E',\n",
    " 'L',\n",
    " 'L',\n",
    " 'L',\n",
    " 'L',\n",
    " 'E',\n",
    " 'E',\n",
    " 'L',\n",
    " 'E',\n",
    " 'L',\n",
    " 'L',\n",
    " 'L',\n",
    " 'L',\n",
    " 'L',\n",
    " 'E',\n",
    " '0',\n",
    " 'L',\n",
    " 'S',\n",
    " 'S',\n",
    " 'S',\n",
    " 'S',\n",
    " 'L',\n",
    " 'E',\n",
    " 'S',\n",
    " 'L',\n",
    " 'E',\n",
    " 'L',\n",
    " 'L',\n",
    " '0',\n",
    " 'E',\n",
    " '0',\n",
    " 'S',\n",
    " 'L',\n",
    " '0',\n",
    " 'E',\n",
    " 'S',\n",
    " '0',\n",
    " 'L',\n",
    " 'L']"
   ]
  },
  {
   "cell_type": "code",
   "execution_count": 3,
   "metadata": {},
   "outputs": [],
   "source": [
    "win = ['S',\n",
    " 'S',\n",
    " 'L',\n",
    " 'I',\n",
    " 'L',\n",
    " 'L',\n",
    " 'I',\n",
    " 'I',\n",
    " 'L',\n",
    " 'L',\n",
    " 'L',\n",
    " 'I',\n",
    " 'L',\n",
    " 'I',\n",
    " 'L',\n",
    " 'I',\n",
    " 'I',\n",
    " 'L',\n",
    " 'L',\n",
    " 'L',\n",
    " 'L',\n",
    " 'E',\n",
    " 'E',\n",
    " 'E',\n",
    " 'S',\n",
    " 'L',\n",
    " 'L',\n",
    " 'L',\n",
    " 'E',\n",
    " 'E',\n",
    " 'L',\n",
    " 'E',\n",
    " 'L',\n",
    " 'S',\n",
    " 'S',\n",
    " 'L',\n",
    " 'L',\n",
    " 'E',\n",
    " 'L',\n",
    " 'L',\n",
    " 'S',\n",
    " 'S',\n",
    " 'S',\n",
    " 'I',\n",
    " 'L',\n",
    " 'E',\n",
    " 'S',\n",
    " 'L',\n",
    " 'E',\n",
    " 'L',\n",
    " 'L',\n",
    " 'I',\n",
    " 'E',\n",
    " 'S',\n",
    " 'I',\n",
    " 'L',\n",
    " 'I',\n",
    " 'E',\n",
    " 'S',\n",
    " 'S',\n",
    " 'L',\n",
    " 'S']"
   ]
  },
  {
   "cell_type": "code",
   "execution_count": 4,
   "metadata": {},
   "outputs": [],
   "source": [
    "itvL =['0',\n",
    " '0',\n",
    " '0',\n",
    " '1',\n",
    " '0',\n",
    " '0',\n",
    " '1',\n",
    " '1',\n",
    " '0',\n",
    " '0',\n",
    " '0',\n",
    " '1',\n",
    " '0',\n",
    " '1',\n",
    " '0',\n",
    " '1',\n",
    " '1',\n",
    " '0',\n",
    " '0',\n",
    " '0',\n",
    " '0',\n",
    " '0',\n",
    " '0',\n",
    " '0',\n",
    " '0',\n",
    " '0',\n",
    " '0',\n",
    " '0',\n",
    " '0',\n",
    " '0',\n",
    " '1',\n",
    " '1',\n",
    " '0',\n",
    " '0',\n",
    " '0',\n",
    " '0',\n",
    " '0',\n",
    " '0',\n",
    " '0',\n",
    " '0',\n",
    " '0',\n",
    " '0',\n",
    " '1',\n",
    " '0',\n",
    " '0',\n",
    " '0',\n",
    " '0',\n",
    " '0',\n",
    " '0',\n",
    " '0',\n",
    " '0',\n",
    " '1',\n",
    " '0',\n",
    " '0',\n",
    " '1',\n",
    " '0',\n",
    " '1',\n",
    " '1',\n",
    " '0',\n",
    " '0',\n",
    " '0',\n",
    " '0'] "
   ]
  },
  {
   "cell_type": "code",
   "execution_count": 5,
   "metadata": {},
   "outputs": [],
   "source": [
    "itvE=[0]*62\n",
    "itvE[22]=1"
   ]
  },
  {
   "cell_type": "code",
   "execution_count": 6,
   "metadata": {},
   "outputs": [],
   "source": [
    "itvS = [0]*62\n",
    "itvS[7] = 1"
   ]
  },
  {
   "cell_type": "code",
   "execution_count": 7,
   "metadata": {},
   "outputs": [],
   "source": [
    "sanc = ['0',\n",
    " '0',\n",
    " '0',\n",
    " 'L',\n",
    " '0',\n",
    " '0',\n",
    " 'L',\n",
    " 'L',\n",
    " '0',\n",
    " '0',\n",
    " '0',\n",
    " 'L',\n",
    " '0',\n",
    " 'L',\n",
    " '0',\n",
    " '0',\n",
    " '0',\n",
    " '0',\n",
    " '0',\n",
    " '0',\n",
    " '0',\n",
    " '0',\n",
    " 'E',\n",
    " '0',\n",
    " '0',\n",
    " '0',\n",
    " '0',\n",
    " '0',\n",
    " '0',\n",
    " '0',\n",
    " 'S',\n",
    " 'E',\n",
    " '0',\n",
    " '0',\n",
    " '0',\n",
    " '0',\n",
    " '0',\n",
    " '0',\n",
    " '0',\n",
    " '0',\n",
    " '0',\n",
    " '0',\n",
    " '0',\n",
    " 'L',\n",
    " '0',\n",
    " '0',\n",
    " '0',\n",
    " '0',\n",
    " '0',\n",
    " '0',\n",
    " '0',\n",
    " '0',\n",
    " '0',\n",
    " '0',\n",
    " 'S',\n",
    " '0',\n",
    " 'E',\n",
    " 'E',\n",
    " '0',\n",
    " '0',\n",
    " '0',\n",
    " '0']"
   ]
  },
  {
   "cell_type": "code",
   "execution_count": 8,
   "metadata": {},
   "outputs": [],
   "source": [
    "freq = [0]*41\n",
    "\n",
    "for i in range(3,40):\n",
    "    for j in range(62):\n",
    "        if((60*i-sec[j]<150)&(60*i-sec[j]>-150)):\n",
    "            freq[i] += 1"
   ]
  },
  {
   "cell_type": "code",
   "execution_count": 9,
   "metadata": {},
   "outputs": [],
   "source": [
    "import numpy as np\n",
    "import matplotlib.pyplot as plt"
   ]
  },
  {
   "cell_type": "code",
   "execution_count": 10,
   "metadata": {},
   "outputs": [
    {
     "data": {
      "text/plain": [
       "Text(0.5,0,'t (min)')"
      ]
     },
     "execution_count": 10,
     "metadata": {},
     "output_type": "execute_result"
    },
    {
     "data": {
      "image/png": "[encoded data removed]",
      "text/plain": [
       "<Figure size 432x288 with 1 Axes>"
      ]
     },
     "metadata": {},
     "output_type": "display_data"
    }
   ],
   "source": [
    "from scipy import optimize as opt\n",
    "\n",
    "taxe = range(41)\n",
    "len(taxe)\n",
    "plt.bar(x=taxe,height=freq)\n",
    "\n",
    "def func(x,a,b,c,d,e):\n",
    "    return e*(x**4)+a*(x**3)+b*(x**2)+c*x+d\n",
    "\n",
    "popt, pcov = opt.curve_fit(func,np.array(range(4,41)),np.array(freq[4:41]))\n",
    "\n",
    "optc = []\n",
    "for x in taxe:\n",
    "    optc.append(popt[4]*(x**4)+popt[0]*(x**3)+popt[1]*(x**2)+popt[2]*x+popt[3])\n",
    "\n",
    "plt.plot(taxe, optc, \"m\")\n",
    "       \n",
    "\n",
    "plt.title(\"Number of fights in t min±2 min 30 sec\")\n",
    "plt.ylabel(\"Number of fights\")\n",
    "plt.xlabel(\"t (min)\")"
   ]
  },
  {
   "cell_type": "code",
   "execution_count": 11,
   "metadata": {
    "scrolled": true
   },
   "outputs": [],
   "source": [
    "ch_p = [0]*4\n",
    "ch_p[0] = ch.count(\"L\")/len(ch)\n",
    "ch_p[1] = ch.count(\"E\")/len(ch)\n",
    "ch_p[2] = ch.count(\"S\")/len(ch)\n",
    "ch_p[3] = ch.count(\"0\")/len(ch)"
   ]
  },
  {
   "cell_type": "code",
   "execution_count": 12,
   "metadata": {},
   "outputs": [
    {
     "data": {
      "text/plain": [
       "Text(0.5,1,'Ratio of challenges by each relative size of challenger')"
      ]
     },
     "execution_count": 12,
     "metadata": {},
     "output_type": "execute_result"
    },
    {
     "data": {
      "image/png": "[encoded data removed]",
      "text/plain": [
       "<Figure size 432x288 with 1 Axes>"
      ]
     },
     "metadata": {},
     "output_type": "display_data"
    }
   ],
   "source": [
    "x = np.array([\"Large\", \"Equal\", \"Small\", \"Unknown\"])\n",
    "plt.bar(x, np.array(ch_p))\n",
    "plt.title(\"Ratio of challenges by each relative size of challenger\")\n"
   ]
  },
  {
   "cell_type": "code",
   "execution_count": 13,
   "metadata": {},
   "outputs": [],
   "source": [
    "win_p = [0]*5\n",
    "win_p[0] = win.count(\"L\")/len(win)\n",
    "win_p[1] = win.count(\"E\")/len(win)\n",
    "win_p[2] = win.count(\"S\")/len(win)\n",
    "win_p[3] = win.count(\"I\")/len(win)\n",
    "win_p[4] = win.count(\"0\")/len(win)"
   ]
  },
  {
   "cell_type": "code",
   "execution_count": 14,
   "metadata": {
    "scrolled": true
   },
   "outputs": [
    {
     "data": {
      "text/plain": [
       "Text(0.5,1,'Victory ratio of each relative size for all fights')"
      ]
     },
     "execution_count": 14,
     "metadata": {},
     "output_type": "execute_result"
    },
    {
     "data": {
      "image/png": "[encoded data removed]",
      "text/plain": [
       "<Figure size 432x288 with 1 Axes>"
      ]
     },
     "metadata": {},
     "output_type": "display_data"
    }
   ],
   "source": [
    "x = np.array([\"Large\", \"Equal\", \"Small\", \"Intervention\",\"Unknown\"])\n",
    "plt.bar(x, np.array(win_p))\n",
    "plt.title(\"Victory ratio of each relative size for all fights\")"
   ]
  },
  {
   "cell_type": "code",
   "execution_count": 15,
   "metadata": {},
   "outputs": [
    {
     "data": {
      "text/plain": [
       "1.0"
      ]
     },
     "execution_count": 15,
     "metadata": {},
     "output_type": "execute_result"
    }
   ],
   "source": [
    "sum(win_p)"
   ]
  },
  {
   "cell_type": "code",
   "execution_count": 16,
   "metadata": {},
   "outputs": [],
   "source": [
    "count=[0]*2\n",
    "SUM = [0]*2\n",
    "\n",
    "for i in range(62):\n",
    "    if (ch[i]==\"L\"):\n",
    "        count[0] += 1\n",
    "        if (win[i] == \"L\"):\n",
    "            SUM[0] += 1\n",
    "    \n",
    "    if (ch[i]==\"S\"):\n",
    "        count[1] += 1\n",
    "        if (win[i] == \"S\"):\n",
    "            SUM[1] += 1\n"
   ]
  },
  {
   "cell_type": "code",
   "execution_count": 17,
   "metadata": {},
   "outputs": [
    {
     "data": {
      "text/plain": [
       "[23, 5]"
      ]
     },
     "execution_count": 17,
     "metadata": {},
     "output_type": "execute_result"
    }
   ],
   "source": [
    "SUM"
   ]
  },
  {
   "cell_type": "code",
   "execution_count": 18,
   "metadata": {},
   "outputs": [
    {
     "data": {
      "text/plain": [
       "[30, 7]"
      ]
     },
     "execution_count": 18,
     "metadata": {},
     "output_type": "execute_result"
    }
   ],
   "source": [
    "count"
   ]
  },
  {
   "cell_type": "code",
   "execution_count": 19,
   "metadata": {},
   "outputs": [],
   "source": [
    "size_win_p = np.array(SUM)/np.array(count)"
   ]
  },
  {
   "cell_type": "code",
   "execution_count": 20,
   "metadata": {},
   "outputs": [
    {
     "data": {
      "text/plain": [
       "array([0.76666667, 0.71428571])"
      ]
     },
     "execution_count": 20,
     "metadata": {},
     "output_type": "execute_result"
    }
   ],
   "source": [
    "size_win_p"
   ]
  },
  {
   "cell_type": "code",
   "execution_count": 21,
   "metadata": {},
   "outputs": [
    {
     "data": {
      "text/plain": [
       "Text(0.5,1,'rate of successful challenge for all challenge of each size')"
      ]
     },
     "execution_count": 21,
     "metadata": {},
     "output_type": "execute_result"
    },
    {
     "data": {
      "image/png": "[encoded data removed]",
      "text/plain": [
       "<Figure size 432x288 with 1 Axes>"
      ]
     },
     "metadata": {},
     "output_type": "display_data"
    }
   ],
   "source": [
    "x = (\"Large\", \"Small\")\n",
    "plt.bar(x, np.array(size_win_p))\n",
    "plt.title(\"rate of successful challenge for all challenge of each size\")"
   ]
  },
  {
   "cell_type": "code",
   "execution_count": 22,
   "metadata": {},
   "outputs": [],
   "source": [
    "count = 0\n",
    "itvcount = np.array([0]*3)\n",
    "\n",
    "for i in range(62):\n",
    "    if(itvL[i]=='1'):\n",
    "        count += 1\n",
    "        itvcount[0] += 1\n",
    "        \n",
    "    if(itvE[i]==1):\n",
    "        count += 1\n",
    "        itvcount[1] += 1\n",
    "        \n",
    "    if(itvS[i]==1):\n",
    "        count += 1\n",
    "        itvcount[2] += 1\n",
    "\n",
    "itvsizep= itvcount/(sum(itvcount)-1)"
   ]
  },
  {
   "cell_type": "code",
   "execution_count": 23,
   "metadata": {},
   "outputs": [
    {
     "data": {
      "text/plain": [
       "array([0.93333333, 0.06666667, 0.06666667])"
      ]
     },
     "execution_count": 23,
     "metadata": {},
     "output_type": "execute_result"
    }
   ],
   "source": [
    "itvsizep"
   ]
  },
  {
   "cell_type": "code",
   "execution_count": 24,
   "metadata": {},
   "outputs": [],
   "source": [
    "x = [\"Large\",\"Equal\",\"Small\"]"
   ]
  },
  {
   "cell_type": "code",
   "execution_count": 25,
   "metadata": {},
   "outputs": [
    {
     "data": {
      "text/plain": [
       "Text(0.5,1,'The rate of each relative size of intervened individual for all intervention')"
      ]
     },
     "execution_count": 25,
     "metadata": {},
     "output_type": "execute_result"
    },
    {
     "data": {
      "image/png": "[encoded data removed]",
      "text/plain": [
       "<Figure size 432x288 with 1 Axes>"
      ]
     },
     "metadata": {},
     "output_type": "display_data"
    }
   ],
   "source": [
    "plt.bar(x, itvsizep)\n",
    "plt.title(\"The rate of each relative size of intervened individual for all intervention\")"
   ]
  },
  {
   "cell_type": "code",
   "execution_count": 26,
   "metadata": {},
   "outputs": [],
   "source": [
    "count = 0\n",
    "for i in range(62):\n",
    "    if sanc[i]!='0':\n",
    "        count += 1"
   ]
  },
  {
   "cell_type": "code",
   "execution_count": 27,
   "metadata": {},
   "outputs": [
    {
     "data": {
      "text/plain": [
       "12"
      ]
     },
     "execution_count": 27,
     "metadata": {},
     "output_type": "execute_result"
    }
   ],
   "source": [
    "count"
   ]
  },
  {
   "cell_type": "code",
   "execution_count": 28,
   "metadata": {},
   "outputs": [
    {
     "data": {
      "text/plain": [
       "Text(0.5,1,'The rate of each relative size for punished individuals')"
      ]
     },
     "execution_count": 28,
     "metadata": {},
     "output_type": "execute_result"
    },
    {
     "data": {
      "image/png": "[encoded data removed]",
      "text/plain": [
       "<Figure size 432x288 with 1 Axes>"
      ]
     },
     "metadata": {},
     "output_type": "display_data"
    }
   ],
   "source": [
    "sancedp = [0]*3\n",
    "sancedp[0] = sanc.count(\"L\")/count\n",
    "sancedp[1] = sanc.count(\"E\")/count\n",
    "sancedp[2] = sanc.count(\"S\")/count\n",
    "\n",
    "plt.bar(x, sancedp)\n",
    "plt.title(\"The rate of each relative size for punished individuals\")"
   ]
  },
  {
   "cell_type": "code",
   "execution_count": null,
   "metadata": {},
   "outputs": [],
   "source": []
  }
 ],
 "metadata": {
  "kernelspec": {
   "display_name": "Python 3",
   "language": "python",
   "name": "python3"
  },
  "language_info": {
   "codemirror_mode": {
    "name": "ipython",
    "version": 3
   },
   "file_extension": ".py",
   "mimetype": "text/x-python",
   "name": "python",
   "nbconvert_exporter": "python",
   "pygments_lexer": "ipython3",
   "version": "3.6.5"
  }
 },
 "nbformat": 4,
 "nbformat_minor": 2
}
