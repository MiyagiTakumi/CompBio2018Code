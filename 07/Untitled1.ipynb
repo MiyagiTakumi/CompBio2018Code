{
 "cells": [
  {
   "cell_type": "markdown",
   "metadata": {},
   "source": []
  },
  {
   "cell_type": "code",
   "execution_count": 1,
   "metadata": {},
   "outputs": [],
   "source": [
    "import math\n",
    "import numpy as np\n",
    "\n",
    "family = (\"イシノミ目\",\"シミ目\",\"カゲロウ\",\"トンボ目\",\"カワゲラ目\",\n",
    "          \"シロアリ目\",\"ゴキブリ目\",\"カマキリ目\",\"ガロアムシ目\",\"ナナフシ目\",\n",
    "          \"シロアリモドキ目\",\"バッタ目\",\"ハサミムシ目\",\"ジュズヒゲムシ目\",\n",
    "          \"チャタテムシ目\",\"シラム目\",\"アザミウマ目\",\"カメムシ亜目\",\n",
    "          \"ヨコバイ亜目\",\"アミメカゲロウ目\",\"ラクダムシ目\",\"ヘビトンボ目\",\n",
    "          \"コウチュウ目\",\"ネジレバエ目\",\"ハエ目\",\"シリアゲムシ目\",\"ノミ目\",\"トビゲラ目\",\"チョウ目\",\"ハチ目\")\n",
    "\n",
    "Itiigashi = (0,1,1,6,0,1,0,0,0,0,0,0,0,0,1,0,1,1,9,0,1,0,18,0,183,1,0,3,1,14)\n",
    "Yurinoki = (0,0,0,0,0,0,0,0,0,0,0,1,0,0,2,0,0,3,12,1,0,0,2,0,57,0,0,0,1,10)\n",
    "Someiyoshino = (0,0,0,0,0,0,1,0,0,0,0,0,0,0,0,0,3,3,18,0,1,0,2,0,104,11,0,0,1,4)\n",
    "GrassA = (0,0,0,0,0,0,0,0,0,0,0,5,0,0,0,0,13,0,130,0,0,0,2,0,45,0,0,0,0,6)\n",
    "GrassB = (0,0,0,0,0,0,0,0,0,0,0,0,0,0,2,0,5,2,54,0,0,0,4,0,183,0,0,0,0,10)\n",
    "\n",
    "results = [Itiigashi, Yurinoki, Someiyoshino, GrassA, GrassB]\n",
    "SUM = [sum(Itiigashi),sum(Yurinoki),sum(Someiyoshino),sum(GrassA),sum(GrassB)]"
   ]
  },
  {
   "cell_type": "code",
   "execution_count": 2,
   "metadata": {},
   "outputs": [],
   "source": [
    "H = np.zeros(5)"
   ]
  },
  {
   "cell_type": "code",
   "execution_count": 3,
   "metadata": {},
   "outputs": [],
   "source": [
    "for i in range(0, 5):\n",
    "\n",
    "    for num in results[i]:\n",
    "        if num == 0:\n",
    "            continue\n",
    "        else:\n",
    "            H[i] += -(num/SUM[i])*math.log(num/SUM[i], 2)    "
   ]
  },
  {
   "cell_type": "code",
   "execution_count": 4,
   "metadata": {},
   "outputs": [],
   "source": [
    "Lambda = np.zeros(5)"
   ]
  },
  {
   "cell_type": "code",
   "execution_count": 5,
   "metadata": {},
   "outputs": [],
   "source": [
    "for i in range(0, 5):\n",
    "\n",
    "    for num in results[i]:\n",
    "        if num == 0:\n",
    "            continue\n",
    "        else:    \n",
    "            Lambda[i] += (num/SUM[i])*((num-1)/SUM[i])\n",
    "        "
   ]
  },
  {
   "cell_type": "code",
   "execution_count": 6,
   "metadata": {},
   "outputs": [
    {
     "data": {
      "text/plain": [
       "array([0.57888805, 0.43226865, 0.50922206, 0.46924581, 0.53689349])"
      ]
     },
     "execution_count": 6,
     "metadata": {},
     "output_type": "execute_result"
    }
   ],
   "source": [
    "Lambda"
   ]
  },
  {
   "cell_type": "code",
   "execution_count": 7,
   "metadata": {},
   "outputs": [],
   "source": [
    "Simp = np.ones(5)/Lambda"
   ]
  },
  {
   "cell_type": "code",
   "execution_count": 8,
   "metadata": {},
   "outputs": [
    {
     "data": {
      "text/plain": [
       "array([1.72744971, 2.31337617, 1.96377981, 2.13107923, 1.86256682])"
      ]
     },
     "execution_count": 8,
     "metadata": {},
     "output_type": "execute_result"
    }
   ],
   "source": [
    "Simp"
   ]
  },
  {
   "cell_type": "code",
   "execution_count": 9,
   "metadata": {},
   "outputs": [],
   "source": [
    "C = np.zeros((5, 5))"
   ]
  },
  {
   "cell_type": "code",
   "execution_count": 10,
   "metadata": {},
   "outputs": [],
   "source": [
    "for i in range(0, 5):\n",
    "    \n",
    "    for j in range(i, 5):\n",
    "        \n",
    "        for k in range(0, len(results[i])):\n",
    "            C[i][j] += results[i][k]*results[j][k]*2/((Lambda[i]+Lambda[j])*SUM[i]*SUM[j])\n",
    "            "
   ]
  },
  {
   "cell_type": "code",
   "execution_count": 11,
   "metadata": {},
   "outputs": [
    {
     "data": {
      "text/plain": [
       "array([[1.00713822, 0.98455833, 0.99071759, 0.37416153, 0.97417598],\n",
       "       [0.        , 1.02599299, 0.99957136, 0.52011534, 0.99855474],\n",
       "       [0.        , 0.        , 1.01326878, 0.48695417, 0.997304  ],\n",
       "       [0.        , 0.        , 0.        , 1.01060238, 0.58530826],\n",
       "       [0.        , 0.        , 0.        , 0.        , 1.00716372]])"
      ]
     },
     "execution_count": 11,
     "metadata": {},
     "output_type": "execute_result"
    }
   ],
   "source": [
    "C"
   ]
  },
  {
   "cell_type": "code",
   "execution_count": 12,
   "metadata": {},
   "outputs": [],
   "source": [
    "ED = np.zeros((5,5))\n",
    "\n",
    "for i in range(0, 5):\n",
    "    \n",
    "    for j in range(i, 5):\n",
    "        \n",
    "        for k in range(0, len(results[i])):\n",
    "            ED[i][j] += (results[i][k]-results[j][k])**2\n",
    "            \n",
    "        ED[i][j] = ED[i][j]**(1/2)    "
   ]
  },
  {
   "cell_type": "code",
   "execution_count": 13,
   "metadata": {},
   "outputs": [
    {
     "data": {
      "text/plain": [
       "array([[  0.        , 127.33813254,  82.68010643, 185.00540533,\n",
       "         48.02082881],\n",
       "       [  0.        ,   0.        ,  49.18333051, 119.51568935,\n",
       "        132.93983602],\n",
       "       [  0.        ,   0.        ,   0.        , 127.62053126,\n",
       "         87.80660567],\n",
       "       [  0.        ,   0.        ,   0.        ,   0.        ,\n",
       "        157.91453385],\n",
       "       [  0.        ,   0.        ,   0.        ,   0.        ,\n",
       "          0.        ]])"
      ]
     },
     "execution_count": 13,
     "metadata": {},
     "output_type": "execute_result"
    }
   ],
   "source": [
    "ED"
   ]
  },
  {
   "cell_type": "code",
   "execution_count": 18,
   "metadata": {},
   "outputs": [
    {
     "ename": "ValueError",
     "evalue": "The truth value of an array with more than one element is ambiguous. Use a.any() or a.all()",
     "output_type": "error",
     "traceback": [
      "\u001b[1;31m---------------------------------------------------------------------------\u001b[0m",
      "\u001b[1;31mValueError\u001b[0m                                Traceback (most recent call last)",
      "\u001b[1;32m<ipython-input-18-e7e5c3182c9d>\u001b[0m in \u001b[0;36m<module>\u001b[1;34m()\u001b[0m\n\u001b[0;32m      2\u001b[0m \u001b[1;33m\u001b[0m\u001b[0m\n\u001b[0;32m      3\u001b[0m \u001b[1;32mfor\u001b[0m \u001b[0mi\u001b[0m \u001b[1;32min\u001b[0m \u001b[0mrange\u001b[0m\u001b[1;33m(\u001b[0m\u001b[1;36m0\u001b[0m\u001b[1;33m,\u001b[0m\u001b[0mlen\u001b[0m\u001b[1;33m(\u001b[0m\u001b[0mED\u001b[0m\u001b[1;33m)\u001b[0m\u001b[1;33m)\u001b[0m\u001b[1;33m:\u001b[0m\u001b[1;33m\u001b[0m\u001b[0m\n\u001b[1;32m----> 4\u001b[1;33m     \u001b[1;32mif\u001b[0m \u001b[0mED\u001b[0m\u001b[1;33m[\u001b[0m\u001b[0mi\u001b[0m\u001b[1;33m]\u001b[0m \u001b[1;33m!=\u001b[0m \u001b[1;36m0\u001b[0m\u001b[1;33m:\u001b[0m\u001b[1;33m\u001b[0m\u001b[0m\n\u001b[0m\u001b[0;32m      5\u001b[0m         \u001b[1;32mbreak\u001b[0m\u001b[1;33m\u001b[0m\u001b[0m\n",
      "\u001b[1;31mValueError\u001b[0m: The truth value of an array with more than one element is ambiguous. Use a.any() or a.all()"
     ]
    }
   ],
   "source": [
    "ED.sort()\n",
    "\n",
    "for i in range(0,len(ED)):\n",
    "    if ED[i] != 0:\n",
    "        break"
   ]
  },
  {
   "cell_type": "code",
   "execution_count": null,
   "metadata": {},
   "outputs": [],
   "source": []
  }
 ],
 "metadata": {
  "kernelspec": {
   "display_name": "Python 3",
   "language": "python",
   "name": "python3"
  },
  "language_info": {
   "codemirror_mode": {
    "name": "ipython",
    "version": 3
   },
   "file_extension": ".py",
   "mimetype": "text/x-python",
   "name": "python",
   "nbconvert_exporter": "python",
   "pygments_lexer": "ipython3",
   "version": "3.6.5"
  }
 },
 "nbformat": 4,
 "nbformat_minor": 2
}
