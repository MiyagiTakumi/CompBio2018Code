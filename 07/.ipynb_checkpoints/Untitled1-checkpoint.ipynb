{
 "cells": [
  {
   "cell_type": "code",
   "execution_count": 1,
   "metadata": {},
   "outputs": [],
   "source": [
    "family = (\"イシノミ目\",\"シミ目\",\"カゲロウ\",\"トンボ目\",\"カワゲラ目\",\n",
    "          \"シロアリ目\",\"ゴキブリ目\",\"カマキリ目\",\"ガロアムシ目\",\"ナナフシ目\",\n",
    "          \"シロアリモドキ目\",\"バッタ目\",\"ハサミムシ目\",\"ジュズヒゲムシ目\",\n",
    "          \"チャタテムシ目\",\"シラム目\",\"アザミウマ目\",\"カメムシ亜目\",\n",
    "          \"ヨコバイ亜目\",\"アミメカゲロウ目\",\"ラクダムシ目\",\"ヘビトンボ目\",\n",
    "          \"コウチュウ目\",\"ネジレバエ目\",\"ハエ目\",\"シリアゲムシ目\",\"ノミ目\",\"トビゲラ目\",\"チョウ目\",\"ハチ目\")"
   ]
  },
  {
   "cell_type": "code",
   "execution_count": 2,
   "metadata": {},
   "outputs": [
    {
     "data": {
      "text/plain": [
       "30"
      ]
     },
     "execution_count": 2,
     "metadata": {},
     "output_type": "execute_result"
    }
   ],
   "source": [
    "len(family)"
   ]
  },
  {
   "cell_type": "code",
   "execution_count": 3,
   "metadata": {},
   "outputs": [],
   "source": [
    "Itiigashi = (0,1,1,6,0,1,0,0,0,0,0,0,0,0,1,0,1,1,9,0,1,0,18,0,183,1,0,3,1,14)"
   ]
  },
  {
   "cell_type": "code",
   "execution_count": 4,
   "metadata": {},
   "outputs": [
    {
     "data": {
      "text/plain": [
       "30"
      ]
     },
     "execution_count": 4,
     "metadata": {},
     "output_type": "execute_result"
    }
   ],
   "source": [
    "len(Itiigashi)"
   ]
  },
  {
   "cell_type": "code",
   "execution_count": 8,
   "metadata": {},
   "outputs": [],
   "source": [
    "Yurinoki = (0,0,0,0,0,0,0,0,0,0,0,1,0,0,2,0,0,3,12,1,0,0,2,0,57,0,0,0,1,10)"
   ]
  },
  {
   "cell_type": "code",
   "execution_count": 9,
   "metadata": {},
   "outputs": [
    {
     "data": {
      "text/plain": [
       "30"
      ]
     },
     "execution_count": 9,
     "metadata": {},
     "output_type": "execute_result"
    }
   ],
   "source": [
    "len(Yurinoki)"
   ]
  },
  {
   "cell_type": "code",
   "execution_count": 10,
   "metadata": {},
   "outputs": [],
   "source": [
    "Someiyoshino = (0,0,0,0,0,0,1,0,0,0,0,0,0,0,0,0,3,3,18,0,1,0,2,0,104,11,0,0,1,4)"
   ]
  },
  {
   "cell_type": "code",
   "execution_count": 11,
   "metadata": {},
   "outputs": [
    {
     "data": {
      "text/plain": [
       "30"
      ]
     },
     "execution_count": 11,
     "metadata": {},
     "output_type": "execute_result"
    }
   ],
   "source": [
    "len(Someiyoshino)"
   ]
  },
  {
   "cell_type": "code",
   "execution_count": 12,
   "metadata": {},
   "outputs": [],
   "source": [
    "GrassA = (0,0,0,0,0,0,0,0,0,0,0,5,0,0,0,0,13,0,130,0,0,0,2,0,45,0,0,0,0,6)"
   ]
  },
  {
   "cell_type": "code",
   "execution_count": 13,
   "metadata": {},
   "outputs": [
    {
     "data": {
      "text/plain": [
       "30"
      ]
     },
     "execution_count": 13,
     "metadata": {},
     "output_type": "execute_result"
    }
   ],
   "source": [
    "len(GrassA)"
   ]
  },
  {
   "cell_type": "code",
   "execution_count": 16,
   "metadata": {},
   "outputs": [],
   "source": [
    "GrassB = (0,0,0,0,0,0,0,0,0,0,0,0,0,0,2,0,5,2,54,0,0,0,4,0,183,0,0,0,0,10)"
   ]
  },
  {
   "cell_type": "code",
   "execution_count": 17,
   "metadata": {},
   "outputs": [
    {
     "data": {
      "text/plain": [
       "30"
      ]
     },
     "execution_count": 17,
     "metadata": {},
     "output_type": "execute_result"
    }
   ],
   "source": [
    "len(GrassB)"
   ]
  },
  {
   "cell_type": "code",
   "execution_count": 30,
   "metadata": {},
   "outputs": [],
   "source": [
    "sum = [0,0,0,0,0]"
   ]
  },
  {
   "cell_type": "code",
   "execution_count": 31,
   "metadata": {},
   "outputs": [],
   "source": [
    "for num in Itiigashi:\n",
    "    sum[0] += num\n",
    "    \n",
    "for num in Yurinoki:\n",
    "    sum[1] += num\n",
    "    \n",
    "for num in Someiyoshino:\n",
    "    sum[2] += num\n",
    "    \n",
    "for num in GrassA:\n",
    "    sum[3] += num\n",
    "    \n",
    "for num in GrassB:\n",
    "    sum[4] += num"
   ]
  },
  {
   "cell_type": "code",
   "execution_count": 35,
   "metadata": {},
   "outputs": [],
   "source": [
    "H = [0,0,0,0,0]"
   ]
  },
  {
   "cell_type": "code",
   "execution_count": 38,
   "metadata": {},
   "outputs": [],
   "source": [
    "import math\n",
    "\n",
    "for num in Itiigashi:\n",
    "    if num == 0:\n",
    "        break\n",
    "    else:\n",
    "        H[0] += -(num/sum[0])*math.log(num/sum[0], 2)    "
   ]
  },
  {
   "cell_type": "code",
   "execution_count": 39,
   "metadata": {},
   "outputs": [],
   "source": [
    "for num in Yurinoki:\n",
    "    if num == 0:\n",
    "        break\n",
    "    else:\n",
    "        H[1] += -(num/sum[0])*math.log(num/sum[0], 2)    "
   ]
  },
  {
   "cell_type": "code",
   "execution_count": 40,
   "metadata": {},
   "outputs": [],
   "source": [
    "for num in Someiyoshino:\n",
    "    if num == 0:\n",
    "        break\n",
    "    else:\n",
    "        H[2] += -(num/sum[0])*math.log(num/sum[0], 2)    "
   ]
  },
  {
   "cell_type": "code",
   "execution_count": null,
   "metadata": {},
   "outputs": [],
   "source": []
  }
 ],
 "metadata": {
  "kernelspec": {
   "display_name": "Python 3",
   "language": "python",
   "name": "python3"
  },
  "language_info": {
   "codemirror_mode": {
    "name": "ipython",
    "version": 3
   },
   "file_extension": ".py",
   "mimetype": "text/x-python",
   "name": "python",
   "nbconvert_exporter": "python",
   "pygments_lexer": "ipython3",
   "version": "3.6.5"
  }
 },
 "nbformat": 4,
 "nbformat_minor": 2
}
