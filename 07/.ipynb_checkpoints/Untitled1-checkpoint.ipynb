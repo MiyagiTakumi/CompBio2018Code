{
 "cells": [
  {
   "cell_type": "markdown",
   "metadata": {},
   "source": []
  },
  {
   "cell_type": "code",
   "execution_count": 1,
   "metadata": {},
   "outputs": [],
   "source": [
    "import math\n",
    "import numpy as np\n",
    "\n",
    "family = (\"イシノミ目\",\"シミ目\",\"カゲロウ\",\"トンボ目\",\"カワゲラ目\",\n",
    "          \"シロアリ目\",\"ゴキブリ目\",\"カマキリ目\",\"ガロアムシ目\",\"ナナフシ目\",\n",
    "          \"シロアリモドキ目\",\"バッタ目\",\"ハサミムシ目\",\"ジュズヒゲムシ目\",\n",
    "          \"チャタテムシ目\",\"シラム目\",\"アザミウマ目\",\"カメムシ亜目\",\n",
    "          \"ヨコバイ亜目\",\"アミメカゲロウ目\",\"ラクダムシ目\",\"ヘビトンボ目\",\n",
    "          \"コウチュウ目\",\"ネジレバエ目\",\"ハエ目\",\"シリアゲムシ目\",\"ノミ目\",\"トビゲラ目\",\"チョウ目\",\"ハチ目\")\n",
    "\n",
    "Itiigashi = (0,1,1,6,0,1,0,0,0,0,0,0,0,0,1,0,1,1,9,0,1,0,18,0,183,1,0,3,1,14)\n",
    "Yurinoki = (0,0,0,0,0,0,0,0,0,0,0,1,0,0,2,0,0,3,12,1,0,0,2,0,57,0,0,0,1,10)\n",
    "Someiyoshino = (0,0,0,0,0,0,1,0,0,0,0,0,0,0,0,0,3,3,18,0,1,0,2,0,104,11,0,0,1,4)\n",
    "GrassA = (0,0,0,0,0,0,0,0,0,0,0,5,0,0,0,0,13,0,130,0,0,0,2,0,45,0,0,0,0,6)\n",
    "GrassB = (0,0,0,0,0,0,0,0,0,0,0,0,0,0,2,0,5,2,54,0,0,0,4,0,183,0,0,0,0,10)\n",
    "\n",
    "results = [Itiigashi, Yurinoki, Someiyoshino, GrassA, GrassB]\n",
    "sum = [0,0,0,0,0]"
   ]
  },
  {
   "cell_type": "code",
   "execution_count": 2,
   "metadata": {},
   "outputs": [],
   "source": [
    "for i in range(0, 5):\n",
    "    for num in results[i]:\n",
    "        sum[i] += num"
   ]
  },
  {
   "cell_type": "code",
   "execution_count": 3,
   "metadata": {},
   "outputs": [],
   "source": [
    "H = [0, 0, 0, 0, 0]"
   ]
  },
  {
   "cell_type": "code",
   "execution_count": 4,
   "metadata": {},
   "outputs": [],
   "source": [
    "for i in range(0, 5):\n",
    "\n",
    "    for num in results[i]:\n",
    "        if num == 0:\n",
    "            continue\n",
    "        else:    \n",
    "            H[i] += -(num/sum[i])*math.log(num/sum[i], 2)    "
   ]
  },
  {
   "cell_type": "code",
   "execution_count": 5,
   "metadata": {},
   "outputs": [],
   "source": [
    "Lambda = np.zeros(5)"
   ]
  },
  {
   "cell_type": "code",
   "execution_count": 6,
   "metadata": {},
   "outputs": [],
   "source": [
    "for i in range(0, 5):\n",
    "\n",
    "    for num in results[i]:\n",
    "        if num == 0:\n",
    "            continue\n",
    "        else:    \n",
    "            Lambda[i] += (num/sum[i])*((num-1)/sum[i])\n",
    "        "
   ]
  },
  {
   "cell_type": "code",
   "execution_count": 7,
   "metadata": {},
   "outputs": [
    {
     "data": {
      "text/plain": [
       "array([0.57888805, 0.43226865, 0.50922206, 0.46924581, 0.53689349])"
      ]
     },
     "execution_count": 7,
     "metadata": {},
     "output_type": "execute_result"
    }
   ],
   "source": [
    "Lambda"
   ]
  },
  {
   "cell_type": "code",
   "execution_count": 8,
   "metadata": {},
   "outputs": [],
   "source": [
    "Simp = np.ones(5)/Lambda"
   ]
  },
  {
   "cell_type": "code",
   "execution_count": 9,
   "metadata": {},
   "outputs": [
    {
     "data": {
      "text/plain": [
       "array([1.72744971, 2.31337617, 1.96377981, 2.13107923, 1.86256682])"
      ]
     },
     "execution_count": 9,
     "metadata": {},
     "output_type": "execute_result"
    }
   ],
   "source": [
    "Simp"
   ]
  },
  {
   "cell_type": "code",
   "execution_count": 10,
   "metadata": {},
   "outputs": [],
   "source": [
    "C = np.zeros((5, 5))"
   ]
  },
  {
   "cell_type": "code",
   "execution_count": 11,
   "metadata": {},
   "outputs": [],
   "source": [
    "for i in range(0, 5):\n",
    "    \n",
    "    for j in range(i, 5):\n",
    "        \n",
    "        for k in range(0, len(results[i])):\n",
    "            C[i][j] += results[i][k]*results[j][k]*2/((Lambda[i]+Lambda[j])*sum[i]*sum[j])\n",
    "            "
   ]
  },
  {
   "cell_type": "code",
   "execution_count": 12,
   "metadata": {},
   "outputs": [
    {
     "data": {
      "text/plain": [
       "array([[1.00713822, 0.98455833, 0.99071759, 0.37416153, 0.97417598],\n",
       "       [0.        , 1.02599299, 0.99957136, 0.52011534, 0.99855474],\n",
       "       [0.        , 0.        , 1.01326878, 0.48695417, 0.997304  ],\n",
       "       [0.        , 0.        , 0.        , 1.01060238, 0.58530826],\n",
       "       [0.        , 0.        , 0.        , 0.        , 1.00716372]])"
      ]
     },
     "execution_count": 12,
     "metadata": {},
     "output_type": "execute_result"
    }
   ],
   "source": [
    "C"
   ]
  },
  {
   "cell_type": "code",
   "execution_count": null,
   "metadata": {},
   "outputs": [],
   "source": [
    "ED = np.zeros((5,5))\n",
    "\n",
    "for i in range(0, 5):\n",
    "    \n",
    "    for j in range(i, 5):\n",
    "        \n",
    "        for k in range(0, len(results[i])):\n",
    "            "
   ]
  }
 ],
 "metadata": {
  "kernelspec": {
   "display_name": "Python 3",
   "language": "python",
   "name": "python3"
  },
  "language_info": {
   "codemirror_mode": {
    "name": "ipython",
    "version": 3
   },
   "file_extension": ".py",
   "mimetype": "text/x-python",
   "name": "python",
   "nbconvert_exporter": "python",
   "pygments_lexer": "ipython3",
   "version": "3.6.5"
  }
 },
 "nbformat": 4,
 "nbformat_minor": 2
}
